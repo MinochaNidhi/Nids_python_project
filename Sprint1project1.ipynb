{
 "cells": [
  {
   "cell_type": "code",
   "execution_count": 26,
   "metadata": {},
   "outputs": [
    {
     "name": "stdout",
     "output_type": "stream",
     "text": [
      "Hello World\n",
      "My name is Nidhi Minocha\n"
     ]
    }
   ],
   "source": [
    "#Exercise 1\n",
    "print (\"Hello World\") \n",
    "my_name =\"Nidhi Minocha\"\n",
    "print (\"My name is\", my_name)"
   ]
  },
  {
   "cell_type": "code",
   "execution_count": 27,
   "metadata": {},
   "outputs": [
    {
     "name": "stdout",
     "output_type": "stream",
     "text": [
      "my age is 36\n"
     ]
    }
   ],
   "source": [
    "#Exercise 2\n",
    "age = 36\n",
    "print (\"my age is\", age)"
   ]
  },
  {
   "cell_type": "code",
   "execution_count": 28,
   "metadata": {},
   "outputs": [
    {
     "name": "stdout",
     "output_type": "stream",
     "text": [
      "age difference between me and Julia is 0\n",
      "age difference between me and Julia is -6\n",
      "age difference between me and Julia is 7\n"
     ]
    }
   ],
   "source": [
    "#Exercise 3\n",
    "my_age = 36\n",
    "Julia_age = 36\n",
    "age_difference = my_age - Julia_age\n",
    "print (\"age difference between me and Julia is\", age_difference)\n",
    "\n",
    "my_age = 36\n",
    "Julia_age = 42\n",
    "age_difference = my_age - Julia_age\n",
    "print (\"age difference between me and Julia is\", age_difference)\n",
    "\n",
    "\n",
    "my_age = 36\n",
    "Julia_age = 29\n",
    "age_difference = my_age - Julia_age\n",
    "\n",
    "print (\"age difference between me and Julia is\", age_difference)"
   ]
  },
  {
   "cell_type": "code",
   "execution_count": 29,
   "metadata": {},
   "outputs": [
    {
     "name": "stdout",
     "output_type": "stream",
     "text": [
      "you are not older than 21\n"
     ]
    }
   ],
   "source": [
    "#Exercise 4\n",
    "my_age = 20\n",
    "\n",
    "if my_age < 21: \n",
    "    print (\"you are not older than 21\")\n",
    "\n",
    "elif my_age  == 21: \n",
    "    print (\"same age\")\n",
    "\n",
    "else: \n",
    "    print (\"you are older than 21\") "
   ]
  },
  {
   "cell_type": "code",
   "execution_count": 30,
   "metadata": {},
   "outputs": [
    {
     "name": "stdout",
     "output_type": "stream",
     "text": [
      "my name is Nidhi Minocha\n",
      "my age is 36\n",
      "age difference between me and Julia is 7\n",
      "Julia is younger\n"
     ]
    }
   ],
   "source": [
    "#Exercise 5\n",
    "my_name = \"Nidhi Minocha\"\n",
    "print (\"my name is\", my_name)\n",
    "\n",
    "age = 36\n",
    "print (\"my age is\", age)\n",
    "\n",
    "my_age = 36\n",
    "Julia_age = 29\n",
    "age_difference = my_age - Julia_age\n",
    "print (\"age difference between me and Julia is\", age_difference)\n",
    "\n",
    "if age_difference  < 0: \n",
    "    print (\"Julia is elder\")\n",
    "\n",
    "elif age_difference  == 0: \n",
    "    print (\"same age\")\n",
    "\n",
    "else: \n",
    "    print (\"Julia is younger\") "
   ]
  },
  {
   "cell_type": "code",
   "execution_count": 31,
   "metadata": {},
   "outputs": [
    {
     "name": "stdout",
     "output_type": "stream",
     "text": [
      "The sorted Student_List:  ['Ana', 'Bob', 'Carlos', 'Charlie', 'Killian', 'Nidhi', 'Virginia', 'Zack']\n",
      "The first element of the sorted Student_List:  Ana\n",
      "The last element of the sorted Student_List:  Zack\n",
      "Printing the element of the sorted Student_List\n",
      "Ana\n",
      "Bob\n",
      "Carlos\n",
      "Charlie\n",
      "Killian\n",
      "Nidhi\n",
      "Virginia\n",
      "Zack\n"
     ]
    }
   ],
   "source": [
    "#Exercise 6 \n",
    "Student_List = [\"Zack\", \"Ana\",\"Charlie\", \"Bob\",\"Virginia\", \"Killian\", \"Nidhi\", \"Carlos\"]\n",
    "#print (\"First element of List: \", Student_List[0])\n",
    "#print (\"Student List: \", Student_List)\n",
    "\n",
    "#sort the list and list first element\n",
    "Student_List.sort()\n",
    "print(\"The sorted Student_List: \", Student_List)\n",
    "print(\"The first element of the sorted Student_List: \", Student_List[0])\n",
    "print(\"The last element of the sorted Student_List: \", Student_List[-1])\n",
    "\n",
    "#print the list AS IS using for loop\n",
    "print(\"Printing the element of the sorted Student_List\")\n",
    "for student in Student_List:\n",
    "    print(student)"
   ]
  },
  {
   "cell_type": "code",
   "execution_count": 32,
   "metadata": {},
   "outputs": [
    {
     "name": "stdout",
     "output_type": "stream",
     "text": [
      "Age is : 10\n",
      "Age is : 20\n",
      "Age is : 4\n",
      "Smallest element is: 4\n",
      "First two elements in the sorted list: [4, 10]\n",
      "Largest element is: 99\n"
     ]
    }
   ],
   "source": [
    "\n",
    "#Exercise 7\n",
    "# number in a list\n",
    "# list of numbers\n",
    "list1 = [10, 20, 4, 45, 99]\n",
    "#Printing the even age item\n",
    "for x in list1:\n",
    "    #checking whether age is even\n",
    "    if (x%2 == 0): \n",
    "        print(\"Age is :\", x)\n",
    "# sorting the list\n",
    "list1.sort()\n",
    "\n",
    "#Exercise 8 & 9\n",
    "# printing the first element\n",
    "print(\"Smallest element is:\", list1[0])\n",
    "print(\"First two elements in the sorted list:\", list1[:2])\n",
    "print(\"Largest element is:\", list1[-1])\n"
   ]
  },
  {
   "cell_type": "code",
   "execution_count": 33,
   "metadata": {},
   "outputs": [
    {
     "name": "stdout",
     "output_type": "stream",
     "text": [
      "Customer year of birth is: 1999 and age is  23\n",
      "Customer year of birth is: 1995 and age is  27\n",
      "Customer year of birth is: 2005 and age is  17\n",
      "Customer year of birth is: 2010 and age is  12\n",
      "Customer year of birth is: 2007 and age is  15\n",
      "Customer year of birth is: 2006 and age is  16\n",
      "Customer year of birth is: 1994 and age is  28\n",
      "Customer year of birth is: 1996 and age is  26\n",
      "Customer year of birth is: 1979 and age is  43\n",
      "Customer year of birth is: 2008 and age is  14\n"
     ]
    }
   ],
   "source": [
    "# Exercise 10\n",
    "# list of customer birth year\n",
    "CustomersBirthYear = [1999, 1995, 2005, 2010, 2007, 2006, 1994, 1996, 1979, 2008]\n",
    "\n",
    "CurrentYear = 2022\n",
    "for year in CustomersBirthYear:\n",
    "    # printing the maximum element\n",
    "    print(\"Customer year of birth is:\", year, \"and age is \", (CurrentYear - year))"
   ]
  },
  {
   "cell_type": "code",
   "execution_count": 34,
   "metadata": {},
   "outputs": [
    {
     "name": "stdout",
     "output_type": "stream",
     "text": [
      "Customer year of birth is: 1999 and age is  23\n",
      "Customer year of birth is: 1995 and age is  27\n",
      "Customer year of birth is: 2005 and age is  17\n",
      "Customer year of birth is: 2010 and age is  12\n",
      "Customer year of birth is: 2007 and age is  15\n",
      "Customer year of birth is: 2006 and age is  16\n",
      "Customer year of birth is: 1994 and age is  28\n",
      "Customer year of birth is: 1996 and age is  26\n",
      "Customer year of birth is: 1979 and age is  43\n",
      "Customer year of birth is: 2008 and age is  14\n"
     ]
    }
   ],
   "source": [
    "#Exercise 10 with function\n",
    "def Customer_Age(age):\n",
    "    return 2022 - age\n",
    "    \n",
    "CustomersBirthYear = [1999, 1995, 2005, 2010, 2007, 2006, 1994, 1996, 1979, 2008]\n",
    "\n",
    "CurrentYear = 2022\n",
    "for year in CustomersBirthYear:\n",
    "    # printing the maximum element\n",
    "    print(\"Customer year of birth is:\", year, \"and age is \",  Customer_Age(year))"
   ]
  },
  {
   "cell_type": "code",
   "execution_count": 35,
   "metadata": {},
   "outputs": [
    {
     "name": "stdout",
     "output_type": "stream",
     "text": [
      "Bob 1999\n",
      "Jack 1995\n",
      "Lisa 2005\n",
      "Maria 2010\n",
      "Ben 2007\n",
      "Emma 2006\n",
      "Oscar 1994\n",
      "Amy 1996\n",
      "Paul 1979\n",
      "Etta 2008\n"
     ]
    }
   ],
   "source": [
    "#Exercise 11 print the name and age of each customer\n",
    "customer_list = [\n",
    "                    {\"name\": \"Bob\", \"age\": 1999},\n",
    "                    {\"name\": \"Jack\", \"age\": 1995},\n",
    "                    {\"name\": \"Lisa\", \"age\": 2005},\n",
    "                    {\"name\": \"Maria\", \"age\": 2010},\n",
    "                    {\"name\": \"Ben\", \"age\": 2007},\n",
    "                    {\"name\": \"Emma\", \"age\": 2006},\n",
    "                    {\"name\": \"Oscar\", \"age\": 1994},\n",
    "                    {\"name\": \"Amy\", \"age\": 1996},\n",
    "                    {\"name\": \"Paul\", \"age\": 1979},\n",
    "                    {\"name\": \"Etta\", \"age\": 2008}\n",
    "                ]\n",
    "\n",
    "for cust in customer_list:\n",
    "    print (cust[\"name\"], cust[\"age\"])\n",
    "    #print(cust.keys('name'))"
   ]
  },
  {
   "cell_type": "code",
   "execution_count": 36,
   "metadata": {},
   "outputs": [
    {
     "name": "stdout",
     "output_type": "stream",
     "text": [
      "ages [20, 24, 14, 12, 13, 25, 23, 40, 11]\n",
      "ages [20, 24, 14, 9, 12, 13, 25, 23, 11]\n"
     ]
    }
   ],
   "source": [
    "#Exercise: 12 remove the youngest and oldest\n",
    "ages = [20, 24, 14, 9, 12, 13, 25, 23, 40, 11]\n",
    "ages.remove(9)\n",
    "print(\"ages\",ages)\n",
    "\n",
    "ages = [20, 24, 14, 9, 12, 13, 25, 23, 40, 11]\n",
    "ages.remove(40)\n",
    "print(\"ages\",ages)"
   ]
  },
  {
   "cell_type": "code",
   "execution_count": 37,
   "metadata": {},
   "outputs": [
    {
     "name": "stdout",
     "output_type": "stream",
     "text": [
      "14\n",
      "9\n",
      "Oldest Age  40 Youngest Age  9\n",
      "ages [20, 24, 14, 9, 12, 13, 25, 23, 40, 11]\n",
      "ages [20, 24, 14, 12, 13, 25, 23, 40, 11]\n"
     ]
    }
   ],
   "source": [
    "#Exercise: 12 remove the youngest and oldest alternatively\n",
    "ages = [20, 24, 14, 9, 12, 13, 25, 23, 40, 11]\n",
    "\n",
    "youngestAge = ages[0]\n",
    "oldestAge = ages[0]\n",
    "\n",
    "for a in ages:\n",
    "    if (youngestAge > a):\n",
    "        youngestAge = a\n",
    "        print(youngestAge)\n",
    "    if (oldestAge < a):\n",
    "        oldestAge = a\n",
    "\n",
    "print (\"Oldest Age \", oldestAge,  \"Youngest Age \", youngestAge)\n",
    "print(\"ages\",ages)\n",
    "\n",
    "ages.remove(youngestAge)\n",
    "print(\"ages\",ages)"
   ]
  },
  {
   "cell_type": "code",
   "execution_count": 38,
   "metadata": {},
   "outputs": [
    {
     "name": "stdout",
     "output_type": "stream",
     "text": [
      "ages [11, 12, 13, 14, 20, 23, 24, 25, 40]\n",
      "ages [9, 11, 12, 13, 14, 20, 23, 24, 25]\n",
      "ages [11, 12, 13, 14, 20, 23, 24, 25, 40]\n"
     ]
    }
   ],
   "source": [
    "#Exercise: 12 remove the youngest and oldest alternatively\n",
    "ages = [20, 24, 14, 9, 12, 13, 25, 23, 40, 11]\n",
    "ages.sort()\n",
    "ages.remove(9)\n",
    "print(\"ages\",ages)\n",
    "\n",
    "ages = [20, 24, 14, 9, 12, 13, 25, 23, 40, 11]\n",
    "ages.sort()\n",
    "ages.remove(40)\n",
    "print(\"ages\",ages)\n",
    "ages = [20, 24, 14, 9, 12, 13, 25, 23, 40, 11]\n",
    "ages.sort()\n",
    "ages.pop(0)\n",
    "print(\"ages\",ages)"
   ]
  },
  {
   "cell_type": "code",
   "execution_count": 39,
   "metadata": {},
   "outputs": [
    {
     "data": {
      "text/plain": [
       "[11, 12, 13, 14, 20, 23, 24, 25]"
      ]
     },
     "execution_count": 39,
     "metadata": {},
     "output_type": "execute_result"
    }
   ],
   "source": [
    "#Exercise: 12 remove the youngest and oldest alternatively\n",
    "ages = [20, 24, 14, 9, 12, 13, 25, 23, 40, 11]\n",
    "#ages.remove(min(ages))\n",
    "#ages.remove(max(ages))\n",
    "ages.sort()\n",
    "#print(max(ages))\n",
    "new_ages = ages[1:-1] #hello\n",
    "new_ages"
   ]
  },
  {
   "cell_type": "code",
   "execution_count": 40,
   "metadata": {},
   "outputs": [
    {
     "data": {
      "text/plain": [
       "{10, 13, 15, 16, 18, 19}"
      ]
     },
     "execution_count": 40,
     "metadata": {},
     "output_type": "execute_result"
    }
   ],
   "source": [
    "#Exercise: 13 \n",
    "def common_age(a, b):\n",
    "    return set(a).intersection(b)\n",
    "\n",
    "berlin = [15, 13, 16, 18, 19, 10, 12 ]\n",
    "munich = [7, 13, 15, 20, 19, 18, 10, 16]\n",
    "\n",
    "common_age(berlin, munich)\n",
    "\n",
    "#List1 = berlin + munich\n",
    "#print(List1)"
   ]
  },
  {
   "cell_type": "code",
   "execution_count": 41,
   "metadata": {},
   "outputs": [
    {
     "name": "stdout",
     "output_type": "stream",
     "text": [
      "Welcome Evelyn have a nice day\n",
      "Welcome Jost have a nice day\n"
     ]
    }
   ],
   "source": [
    "#Exercise: 14\n",
    "def Welcome(person):\n",
    "  return print(\"Welcome\", person, \"have a nice day\" )\n",
    "\n",
    "\n",
    "Welcome('Evelyn')\n",
    "Welcome(\"Jost\")\n",
    "#welcome('Evelyn') would print- 'Welcome Evelyn, have a nice day!'\n",
    "\n",
    "#welcome('Jost'), it would print - 'Welcome Jost, have a nice day!"
   ]
  },
  {
   "cell_type": "code",
   "execution_count": 42,
   "metadata": {},
   "outputs": [
    {
     "name": "stdout",
     "output_type": "stream",
     "text": [
      "5\n",
      "2\n"
     ]
    }
   ],
   "source": [
    "#Exercise: 15\n",
    "def get_length(word):\n",
    "    return len(word)\n",
    "\n",
    "print(get_length(\"Hello\"))\n",
    "print(get_length(\"Hi\"))"
   ]
  },
  {
   "cell_type": "code",
   "execution_count": 43,
   "metadata": {},
   "outputs": [
    {
     "name": "stdout",
     "output_type": "stream",
     "text": [
      "the number  5 is odd\n",
      "the number  6 is even\n",
      "the number  6 is even\n",
      "the return of check_even(6) Yes\n",
      "the number  5 is odd\n",
      "the return of check_even(5) No\n"
     ]
    }
   ],
   "source": [
    "#Exercise 17\n",
    "# in this case it \n",
    "def check_even(number):\n",
    "    remainder = number%2\n",
    "    #EvnFlag = \"Yes\"\n",
    "    if (remainder == 0):\n",
    "      print(\"the number \", number, \"is even\")\n",
    "      return \"Yes\"\n",
    "      #retun EvenFlag\n",
    "    else:\n",
    "      print(\"the number \", number, \"is odd\")\n",
    "      return \"No\"\n",
    "\n",
    "#  check if (5) is even\n",
    "check_even(5)\n",
    "check_even(6)\n",
    "\n",
    "print (\"the return of check_even(6)\", check_even(6))\n",
    "print (\"the return of check_even(5)\",check_even(5))\n",
    "\n",
    "#def check_even(k):\n",
    "#  if(k == even):\n",
    "#    result = \"yes\"\n",
    "#    print(\"yes\", k)\n",
    "# check_even(6)"
   ]
  },
  {
   "cell_type": "code",
   "execution_count": 44,
   "metadata": {},
   "outputs": [
    {
     "name": "stdout",
     "output_type": "stream",
     "text": [
      "Bob 1999\n",
      "Jack 1995\n",
      "Lisa 2005\n",
      "Maria 2010\n",
      "Ben 2007\n",
      "Emma 2006\n",
      "Oscar 1994\n",
      "Amy 1996\n",
      "Paul 1979\n",
      "Etta 2008\n"
     ]
    }
   ],
   "source": [
    "#Exercise 18 (fn 11)\n",
    "\n",
    "#Exercise 11 print the name and age of each customer\n",
    "def print_customer(name, age):\n",
    "    print (name, age)\n",
    "customer_list = [\n",
    "                    {\"name\": \"Bob\", \"age\": 1999},\n",
    "                    {\"name\": \"Jack\", \"age\": 1995},\n",
    "                    {\"name\": \"Lisa\", \"age\": 2005},\n",
    "                    {\"name\": \"Maria\", \"age\": 2010},\n",
    "                    {\"name\": \"Ben\", \"age\": 2007},\n",
    "                    {\"name\": \"Emma\", \"age\": 2006},\n",
    "                    {\"name\": \"Oscar\", \"age\": 1994},\n",
    "                    {\"name\": \"Amy\", \"age\": 1996},\n",
    "                    {\"name\": \"Paul\", \"age\": 1979},\n",
    "                    {\"name\": \"Etta\", \"age\": 2008}\n",
    "                ]\n",
    "\n",
    "for cust in customer_list:\n",
    "    #print (cust[\"name\"], cust[\"age\"])\n",
    "    print_customer(cust[\"name\"], cust[\"age\"])"
   ]
  },
  {
   "cell_type": "code",
   "execution_count": 49,
   "metadata": {},
   "outputs": [
    {
     "name": "stdout",
     "output_type": "stream",
     "text": [
      "Oldest age  40  Youngest age  9\n",
      "[20, 24, 14, 9, 12, 13, 25, 23, 40, 11]\n",
      "[11, 12, 13, 14, 20, 23, 24, 25, 40]\n",
      "[20, 24, 14, 9, 12, 13, 25, 23, 40, 11]\n",
      "[11, 12, 13, 14, 20, 23, 24, 25]\n"
     ]
    }
   ],
   "source": [
    "#Exercise 18 (fn 12)\n",
    "    #Exercise: 12 remove the youngest and oldest\n",
    "def remove_age(AgeList, ageToRemove):\n",
    "    AgeList.remove(ageToRemove)\n",
    "\n",
    "    ages = [20, 24, 14, 9, 12, 13, 25, 23, 40, 11]\n",
    "\n",
    "    youngestAge = ages[0]\n",
    "    olderstAge = ages[0]\n",
    "    print (ages)\n",
    "    for age in ages:\n",
    "     if(youngestAge > age):\n",
    "        youngestAge = age\n",
    "    if (olderstAge < age):\n",
    "        olderstAge = age\n",
    "print (\"Oldest age \", oldestAge, \" Youngest age \", youngestAge)\n",
    "remove_age(ages, youngestAge)\n",
    "print (ages)\n",
    "remove_age(ages, oldestAge)\n",
    "print(ages)"
   ]
  },
  {
   "cell_type": "code",
   "execution_count": 50,
   "metadata": {},
   "outputs": [
    {
     "name": "stdout",
     "output_type": "stream",
     "text": [
      "[15, 13, 16, 18, 19, 15, 10]\n",
      "{10, 13, 15, 16, 18, 19}\n"
     ]
    }
   ],
   "source": [
    "#Exercise 18 (fn 14)\n",
    "#Exercise 14 Remove the duplicates from a list of ages\n",
    "def removeDup (Ages):\n",
    "    return (set(Ages))\n",
    "\n",
    "ListAge = [15,13,16,18,19,15,10]\n",
    "print (ListAge)\n",
    "print (removeDup(ListAge))"
   ]
  },
  {
   "cell_type": "code",
   "execution_count": 51,
   "metadata": {},
   "outputs": [
    {
     "name": "stdout",
     "output_type": "stream",
     "text": [
      "[10, 20, 30, 40]\n",
      "The age exist in the given list  10\n"
     ]
    }
   ],
   "source": [
    "#Exercise 19 : find the age in the given list\n",
    "# creating an empty list\n",
    "ageList = [10, 20, 30, 40]\n",
    "\n",
    "print (ageList)\n",
    "age = int(input())\n",
    "\n",
    "found = False\n",
    "# iterating till the range\n",
    "for i in ageList:\n",
    "    if (i == age):\n",
    "        print (\"The age exist in the given list \", i)\n",
    "        found = True\n",
    "if (found == False):\n",
    "    print (\"The age does not exist in the given list \", age)\n"
   ]
  }
 ],
 "metadata": {
  "interpreter": {
   "hash": "29b762e6ebb16630dc180eb4a7876cc2a2c9b1bf58b2cade60381b48a6cb6e19"
  },
  "kernelspec": {
   "display_name": "Python 3.9.7 ('base')",
   "language": "python",
   "name": "python3"
  },
  "language_info": {
   "codemirror_mode": {
    "name": "ipython",
    "version": 3
   },
   "file_extension": ".py",
   "mimetype": "text/x-python",
   "name": "python",
   "nbconvert_exporter": "python",
   "pygments_lexer": "ipython3",
   "version": "3.9.7"
  },
  "orig_nbformat": 4
 },
 "nbformat": 4,
 "nbformat_minor": 2
}
